{
 "cells": [
  {
   "cell_type": "code",
   "execution_count": 1,
   "id": "75a8b3e1",
   "metadata": {},
   "outputs": [],
   "source": [
    "import os\n",
    "import sys"
   ]
  },
  {
   "cell_type": "code",
   "execution_count": 2,
   "id": "07586d03",
   "metadata": {},
   "outputs": [],
   "source": [
    "if 'SUMO_HOME' not in os.environ:\n",
    "    os.environ['SUMO_HOME'] = '/usr/share/sumo'\n",
    "if 'SUMO_HOME' in os.environ:\n",
    "    sys.path.append(os.path.join(os.environ['SUMO_HOME'], 'tools'))"
   ]
  },
  {
   "cell_type": "code",
   "execution_count": 3,
   "id": "58b3743a",
   "metadata": {},
   "outputs": [],
   "source": [
    "import traci\n",
    "import traci.constants as tc \n",
    "\n",
    "# General doc: https://sumo.dlr.de/docs/TraCI.html\n",
    "# Simulation Value Retrieval doc: https://sumo.dlr.de/docs/TraCI/Simulation_Value_Retrieval.html\n",
    "# Vehicle Value Retrieval doc: https://sumo.dlr.de/docs/TraCI/Vehicle_Value_Retrieval.html\n",
    "# Person Value Retrieval doc: https://sumo.dlr.de/docs/TraCI/Person_Value_Retrieval.html\n",
    "# Constants doc: https://sumo.dlr.de/pydoc/traci.constants.html"
   ]
  },
  {
   "cell_type": "code",
   "execution_count": 4,
   "id": "16e83bc4",
   "metadata": {},
   "outputs": [],
   "source": [
    "sumo_binary = '/usr/bin/sumo-gui'"
   ]
  },
  {
   "cell_type": "markdown",
   "id": "a5e1fd40",
   "metadata": {},
   "source": [
    "# Run simulation with TraCI and retrieves variables per step"
   ]
  },
  {
   "cell_type": "markdown",
   "id": "23be1263",
   "metadata": {},
   "source": [
    "## Run simulation with vehicles only"
   ]
  },
  {
   "cell_type": "code",
   "execution_count": null,
   "id": "2afa1d51",
   "metadata": {},
   "outputs": [],
   "source": [
    "all_variables = []\n",
    "step = 0\n",
    "\n",
    "# start simulation with vehicles only\n",
    "traci.start([sumo_binary, '-c', '/home/caiopetruccirosa/Repositories/sumo-unicamp-simulation/unicamp-simulation/simulation-only-vehicles/configuration/osm.sumocfg'])\n",
    "\n",
    "while traci.simulation.getMinExpectedNumber() > 0:\n",
    "    # subscribe to vehicles that still are on the simulation\n",
    "    for veh_id in traci.simulation.getDepartedIDList():\n",
    "        traci.vehicle.subscribe(veh_id, [tc.VAR_TIME_STEP,tc.VAR_TIME,tc.VAR_POSITION])\n",
    "    \n",
    "    # get variables values\n",
    "    variables = traci.vehicle.getAllSubscriptionResults()\n",
    "    all_variables.append([variables.copy()])\n",
    "    \n",
    "    print(f'Executing step {step}: {len(variables)} variables retrieved.')\n",
    "    \n",
    "    traci.simulationStep()\n",
    "    step += 1\n",
    "    \n",
    "traci.close()"
   ]
  },
  {
   "cell_type": "markdown",
   "id": "12228de0",
   "metadata": {},
   "source": [
    "## Run simulation with pedestrian only"
   ]
  },
  {
   "cell_type": "markdown",
   "id": "938704dc",
   "metadata": {},
   "source": [
    "https://sumo.dlr.de/docs/Simulation/Pedestrians.html\n",
    "\n",
    "Usar o modelo (baseado em social forces) do SUMO:\n",
    "https://github.com/PedestrianDynamics/jupedsim"
   ]
  }
 ],
 "metadata": {
  "kernelspec": {
   "display_name": "Python [conda env:root] *",
   "language": "python",
   "name": "conda-root-py"
  },
  "language_info": {
   "codemirror_mode": {
    "name": "ipython",
    "version": 3
   },
   "file_extension": ".py",
   "mimetype": "text/x-python",
   "name": "python",
   "nbconvert_exporter": "python",
   "pygments_lexer": "ipython3",
   "version": "3.10.9"
  }
 },
 "nbformat": 4,
 "nbformat_minor": 5
}
